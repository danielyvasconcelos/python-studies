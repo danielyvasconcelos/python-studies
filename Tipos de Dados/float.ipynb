{
 "cells": [
  {
   "cell_type": "markdown",
   "id": "9ed8d0cc",
   "metadata": {},
   "source": [
    "Tipos Float"
   ]
  },
  {
   "cell_type": "markdown",
   "id": "a1b2c3d4",
   "metadata": {},
   "source": [
    "3.1 Criação de Float"
   ]
  },
  {
   "cell_type": "code",
   "execution_count": null,
   "id": "e5f6g7h8",
   "metadata": {},
   "outputs": [],
   "source": [
    "# Diferentes formas de criar float\n",
    "numero_decimal = 3.14           # Decimal padrão\n",
    "numero_negativo = -2.5          # Número negativo\n",
    "zero_float = 0.0                # Zero como float\n",
    "notacao_cientifica = 1.5e3      # 1500.0 (1.5 × 10³)\n",
    "notacao_pequena = 2.5e-2        # 0.025 (2.5 × 10⁻²)\n",
    "\n",
    "# Conversão de outros tipos\n",
    "de_string = float(\"3.14\")       # 3.14\n",
    "de_int = float(42)              # 42.0\n",
    "de_bool = float(True)           # 1.0\n",
    "\n",
    "# Valores especiais\n",
    "infinito_pos = float('inf')     # Infinito positivo\n",
    "infinito_neg = float('-inf')    # Infinito negativo\n",
    "nao_numero = float('nan')       # Not a Number (NaN)"
   ]
  },
  {
   "cell_type": "markdown",
   "id": "i9j0k1l2",
   "metadata": {},
   "source": [
    "3.2 Operações Básicas"
   ]
  },
  {
   "cell_type": "code",
   "execution_count": null,
   "id": "m3n4o5p6",
   "metadata": {},
   "outputs": [],
   "source": [
    "a = 10.5\n",
    "b = 3.2\n",
    "\n",
    "# Operações aritméticas\n",
    "soma = a + b                    # 13.7\n",
    "subtracao = a - b               # 7.3\n",
    "multiplicacao = a * b           # 33.6\n",
    "divisao = a / b                 # 3.28125\n",
    "divisao_inteira = a // b        # 3.0 (ainda retorna float)\n",
    "resto = a % b                   # 0.9000000000000004 (imprecisão)\n",
    "potencia = a ** b               # 1291.5496...\n",
    "\n",
    "# Operações de comparação\n",
    "igual = a == b                  # False\n",
    "diferente = a != b              # True\n",
    "maior = a > b                   # True\n",
    "menor_igual = a <= b            # False\n",
    "\n",
    "# Cuidado com comparações de float!\n",
    "print(0.1 + 0.2 == 0.3)               # False (imprecisão de ponto flutuante)\n",
    "print(abs((0.1 + 0.2) - 0.3) < 1e-9)  # True (comparação segura)"
   ]
  },
  {
   "cell_type": "markdown",
   "id": "q7r8s9t0",
   "metadata": {},
   "source": [
    "3.3 Indexação e Fatiamento\n",
    "\n",
    "**Importante**: Float não suporta indexação direta, mas pode ser convertido:"
   ]
  },
  {
   "cell_type": "code",
   "execution_count": null,
   "id": "u1v2w3x4",
   "metadata": {},
   "outputs": [],
   "source": [
    "numero = 123.456\n",
    "\n",
    "# Converter para string para acessar partes\n",
    "numero_str = str(numero)\n",
    "parte_inteira = numero_str.split('.')[0]    # \"123\"\n",
    "parte_decimal = numero_str.split('.')[1]    # \"456\"\n",
    "\n",
    "# Alternativas matemáticas\n",
    "import math\n",
    "parte_int_math = int(numero)                # 123\n",
    "parte_dec_math = numero - int(numero)       # 0.456\n",
    "\n",
    "# Extrair dígitos decimais\n",
    "primeiro_decimal = int((numero * 10) % 10)  # 4\n",
    "segundo_decimal = int((numero * 100) % 10)  # 5"
   ]
  },
  {
   "cell_type": "markdown",
   "id": "y5z6a7b8",
   "metadata": {},
   "source": [
    "3.4 Métodos Úteis"
   ]
  },
  {
   "cell_type": "code",
   "execution_count": null,
   "id": "c9d0e1f2",
   "metadata": {},
   "outputs": [],
   "source": [
    "numero = -3.7\n",
    "\n",
    "# Métodos básicos\n",
    "abs(numero)                     # 3.7 (valor absoluto)\n",
    "round(numero)                   # -4 (arredondamento)\n",
    "round(numero, 1)                # -3.7 (1 casa decimal)\n",
    "math.floor(numero)              # -4 (arredonda para baixo)\n",
    "math.ceil(numero)               # -3 (arredonda para cima)\n",
    "math.trunc(numero)              # -3 (remove parte decimal)\n",
    "\n",
    "# Verificações especiais\n",
    "import math\n",
    "math.isnan(float('nan'))        # True (é NaN?)\n",
    "math.isinf(float('inf'))        # True (é infinito?)\n",
    "math.isfinite(3.14)             # True (é finito?)\n",
    "\n",
    "# Métodos de float\n",
    "numero_float = 3.14159\n",
    "numero_float.is_integer()       # False (é inteiro?)\n",
    "(5.0).is_integer()              # True\n",
    "numero_float.hex()              # Representação hexadecimal"
   ]
  },
  {
   "cell_type": "markdown",
   "id": "g3h4i5j6",
   "metadata": {},
   "source": [
    "3.5 Formatação"
   ]
  },
  {
   "cell_type": "code",
   "execution_count": null,
   "id": "k7l8m9n0",
   "metadata": {},
   "outputs": [],
   "source": [
    "numero = 3.14159265\n",
    "preco = 1234.56\n",
    "\n",
    "# Formatação básica com f-strings\n",
    "print(f\"Número: {numero}\")                     # Número: 3.14159265\n",
    "print(f\"2 casas: {numero:.2f}\")                # 2 casas: 3.14\n",
    "print(f\"Científica: {numero:.2e}\")             # Científica: 3.14e+00\n",
    "print(f\"Porcentagem: {0.85:.1%}\")              # Porcentagem: 85.0%\n",
    "\n",
    "# Formatação de preços\n",
    "print(f\"Preço: R$ {preco:,.2f}\")               # Preço: R$ 1,234.56\n",
    "print(f\"Com zeros: {numero:08.2f}\")            # Com zeros: 00003.14\n",
    "\n",
    "# Formatação com separadores\n",
    "numero_grande = 1234567.89\n",
    "print(f\"Com vírgulas: {numero_grande:,.2f}\")   # Com vírgulas: 1,234,567.89\n",
    "print(f\"Com underscores: {numero_grande:_.2f}\") # Com underscores: 1_234_567.89\n",
    "\n",
    "# Alinhamento\n",
    "print(f\"Esquerda: {numero:<10.2f}\")            # Esquerda: 3.14      \n",
    "print(f\"Direita: {numero:>10.2f}\")             # Direita:       3.14\n",
    "print(f\"Centro: {numero:^10.2f}\")              # Centro:   3.14   "
   ]
  },
  {
   "cell_type": "markdown",
   "id": "o1p2q3r4",
   "metadata": {},
   "source": [
    "3.6 Verificações Úteis"
   ]
  },
  {
   "cell_type": "code",
   "execution_count": null,
   "id": "s5t6u7v8",
   "metadata": {},
   "outputs": [],
   "source": [
    "valor = 3.14\n",
    "\n",
    "# Verificações de tipo\n",
    "isinstance(valor, float)        # True\n",
    "type(valor) == float           # True\n",
    "\n",
    "# Verificações matemáticas\n",
    "valor > 0                      # True (é positivo?)\n",
    "valor < 0                      # False (é negativo?)\n",
    "valor == 0.0                   # False (é zero?)\n",
    "valor.is_integer()             # False (é inteiro?)\n",
    "\n",
    "# Verificações de string numérica\n",
    "\"3.14\".replace('.', '').isdigit()  # True (é número decimal?)\n",
    "\"123.45\".count('.') == 1           # True (tem apenas um ponto?)\n",
    "\n",
    "# Verificação de range\n",
    "0.0 <= valor <= 100.0          # True (está no intervalo?)\n",
    "\n",
    "# Verificações especiais\n",
    "import math\n",
    "math.isnan(valor)              # False (não é NaN)\n",
    "math.isinf(valor)              # False (não é infinito)\n",
    "math.isfinite(valor)           # True (é finito)"
   ]
  },
  {
   "cell_type": "markdown",
   "id": "w9x0y1z2",
   "metadata": {},
   "source": [
    "3.7 Precisão e Limitações"
   ]
  },
  {
   "cell_type": "code",
   "execution_count": null,
   "id": "a3b4c5d6",
   "metadata": {},
   "outputs": [],
   "source": [
    "# Problemas de precisão\n",
    "print(0.1 + 0.2)               # 0.30000000000000004\n",
    "print(0.1 + 0.2 == 0.3)        # False\n",
    "\n",
    "# Soluções para precisão\n",
    "from decimal import Decimal\n",
    "d1 = Decimal('0.1')\n",
    "d2 = Decimal('0.2')\n",
    "print(d1 + d2)                 # 0.3 (exato)\n",
    "\n",
    "# Comparação segura de floats\n",
    "def floats_iguais(a, b, tolerancia=1e-9):\n",
    "    return abs(a - b) < tolerancia\n",
    "\n",
    "floats_iguais(0.1 + 0.2, 0.3)  # True\n",
    "\n",
    "# Limites de float\n",
    "import sys\n",
    "print(sys.float_info.max)      # Maior float possível\n",
    "print(sys.float_info.min)      # Menor float positivo\n",
    "print(sys.float_info.epsilon)  # Menor diferença representável"
   ]
  },
  {
   "cell_type": "markdown",
   "id": "e7f8g9h0",
   "metadata": {},
   "source": [
    "3.8 Operações Matemáticas Avançadas"
   ]
  },
  {
   "cell_type": "code",
   "execution_count": null,
   "id": "i1j2k3l4",
   "metadata": {},
   "outputs": [],
   "source": [
    "import math\n",
    "\n",
    "numero = 16.0\n",
    "\n",
    "# Funções matemáticas\n",
    "math.sqrt(numero)              # 4.0 (raiz quadrada)\n",
    "math.pow(numero, 0.5)          # 4.0 (potência)\n",
    "math.log(numero)               # 2.772... (logaritmo natural)\n",
    "math.log10(numero)             # 1.204... (logaritmo base 10)\n",
    "\n",
    "# Funções trigonométricas\n",
    "angulo = math.pi / 4           # 45 graus em radianos\n",
    "math.sin(angulo)               # 0.707... (seno)\n",
    "math.cos(angulo)               # 0.707... (cosseno)\n",
    "math.tan(angulo)               # 1.0 (tangente)\n",
    "\n",
    "# Conversões\n",
    "math.degrees(math.pi)          # 180.0 (radianos para graus)\n",
    "math.radians(180)              # 3.141... (graus para radianos)"
   ]
  },
  {
   "cell_type": "markdown",
   "id": "m5n6o7p8",
   "metadata": {},
   "source": [
    "3.9 Números Aleatórios Float"
   ]
  },
  {
   "cell_type": "code",
   "execution_count": null,
   "id": "q9r0s1t2",
   "metadata": {},
   "outputs": [],
   "source": [
    "import random\n",
    "\n",
    "# Float aleatório entre 0.0 e 1.0\n",
    "random.random()                # 0.8394...\n",
    "\n",
    "# Float aleatório em intervalo\n",
    "random.uniform(1.5, 10.5)      # 7.234... (entre 1.5 e 10.5)\n",
    "\n",
    "# Float com distribuição normal\n",
    "random.gauss(0, 1)             # Distribuição normal (média=0, desvio=1)\n",
    "\n",
    "# Semente para reproduzibilidade\n",
    "random.seed(42)\n",
    "print(random.random())         # Sempre o mesmo resultado"
   ]
  },
  {
   "cell_type": "markdown",
   "id": "u3v4w5x6",
   "metadata": {},
   "source": [
    "3.10 Constantes Úteis"
   ]
  },
  {
   "cell_type": "code",
   "execution_count": null,
   "id": "y7z8a9b0",
   "metadata": {},
   "outputs": [],
   "source": [
    "import math\n",
    "\n",
    "# Constantes matemáticas\n",
    "math.pi                        # 3.141592653589793\n",
    "math.e                         # 2.718281828459045\n",
    "math.tau                       # 6.283185307179586 (2π)\n",
    "math.inf                       # Infinito positivo\n",
    "math.nan                       # Not a Number\n",
    "\n",
    "# Verificação de valores especiais\n",
    "valor = float('inf')\n",
    "print(f\"É infinito: {math.isinf(valor)}\")\n",
    "print(f\"É NaN: {math.isnan(valor)}\")\n",
    "print(f\"É finito: {math.isfinite(valor)}\")"
   ]
  }
 ],
 "metadata": {
  "language_info": {
   "name": "python"
  }
 },
 "nbformat": 4,
 "nbformat_minor": 5
}
