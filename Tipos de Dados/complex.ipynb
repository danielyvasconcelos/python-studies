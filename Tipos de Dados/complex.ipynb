{
 "cells": [
  {
   "cell_type": "markdown",
   "id": "9ed8d0cc",
   "metadata": {},
   "source": [
    "Tipos Complex em Python"
   ]
  },
  {
   "cell_type": "markdown",
   "id": "a1b2c3d4",
   "metadata": {},
   "source": [
    "4.1 Criação de Complex"
   ]
  },
  {
   "cell_type": "code",
   "execution_count": null,
   "id": "e5f6g7h8",
   "metadata": {},
   "outputs": [],
   "source": [
    "# Diferentes formas de criar números complexos\n",
    "complexo1 = 3 + 4j              # Forma padrão (parte real + parte imaginária)\n",
    "complexo2 = 5j                  # Apenas parte imaginária\n",
    "complexo3 = 2 + 0j              # Apenas parte real\n",
    "complexo_zero = 0 + 0j          # Zero complexo\n",
    "\n",
    "# Usando a função complex()\n",
    "complexo4 = complex(3, 4)       # complex(real, imaginário)\n",
    "complexo5 = complex(5)          # complex(real) - imaginário = 0\n",
    "complexo6 = complex(0, 1)       # Unidade imaginária\n",
    "\n",
    "# Conversão de string\n",
    "de_string = complex('3+4j')     # '3+4j'\n",
    "de_string2 = complex('5j')      # '5j'\n",
    "\n",
    "print(f\"complexo1: {complexo1}\")\n",
    "print(f\"complexo4: {complexo4}\")\n",
    "print(f\"de_string: {de_string}\")"
   ]
  },
  {
   "cell_type": "markdown",
   "id": "i9j0k1l2",
   "metadata": {},
   "source": [
    "4.2 Operações Básicas"
   ]
  },
  {
   "cell_type": "code",
   "execution_count": null,
   "id": "m3n4o5p6",
   "metadata": {},
   "outputs": [],
   "source": [
    "a = 3 + 4j\n",
    "b = 1 + 2j\n",
    "\n",
    "# Operações aritméticas\n",
    "soma = a + b                    # (4+6j)\n",
    "subtracao = a - b               # (2+2j)\n",
    "multiplicacao = a * b           # (-5+10j)\n",
    "divisao = a / b                 # (2.2-0.4j)\n",
    "potencia = a ** 2               # (-7+24j)\n",
    "\n",
    "# Operações de comparação (apenas == e !=)\n",
    "igual = a == b                  # False\n",
    "diferente = a != b              # True\n",
    "# Nota: >, <, >=, <= não funcionam com complex\n",
    "\n",
    "print(f\"Soma: {soma}\")\n",
    "print(f\"Multiplicação: {multiplicacao}\")\n",
    "print(f\"Divisão: {divisao}\")"
   ]
  },
  {
   "cell_type": "markdown",
   "id": "q7r8s9t0",
   "metadata": {},
   "source": [
    "4.3 Propriedades e Métodos"
   ]
  },
  {
   "cell_type": "code",
   "execution_count": null,
   "id": "u1v2w3x4",
   "metadata": {},
   "outputs": [],
   "source": [
    "numero = 3 + 4j\n",
    "\n",
    "# Propriedades\n",
    "parte_real = numero.real        # 3.0 (parte real)\n",
    "parte_imag = numero.imag        # 4.0 (parte imaginária)\n",
    "\n",
    "# Métodos\n",
    "conjugado = numero.conjugate()  # (3-4j) (conjugado complexo)\n",
    "\n",
    "# Funções úteis\n",
    "modulo = abs(numero)            # 5.0 (módulo/magnitude)\n",
    "\n",
    "print(f\"Número: {numero}\")\n",
    "print(f\"Parte real: {parte_real}\")\n",
    "print(f\"Parte imaginária: {parte_imag}\")\n",
    "print(f\"Conjugado: {conjugado}\")\n",
    "print(f\"Módulo: {modulo}\")"
   ]
  },
  {
   "cell_type": "markdown",
   "id": "y5z6a7b8",
   "metadata": {},
   "source": [
    "4.4 Operações Matemáticas Avançadas"
   ]
  },
  {
   "cell_type": "code",
   "execution_count": null,
   "id": "c9d0e1f2",
   "metadata": {},
   "outputs": [],
   "source": [
    "import cmath  # Módulo para matemática complexa\n",
    "import math\n",
    "\n",
    "z = 3 + 4j\n",
    "\n",
    "# Coordenadas polares\n",
    "modulo = abs(z)                 # 5.0\n",
    "fase = cmath.phase(z)           # 0.927... (ângulo em radianos)\n",
    "polar = cmath.polar(z)          # (5.0, 0.927...) (módulo, fase)\n",
    "\n",
    "# Conversão de polar para retangular\n",
    "retangular = cmath.rect(5, 0.927)  # Aproximadamente (3+4j)\n",
    "\n",
    "# Funções exponenciais e logarítmicas\n",
    "exponencial = cmath.exp(z)      # e^z\n",
    "logaritmo = cmath.log(z)        # ln(z)\n",
    "log10 = cmath.log10(z)          # log₁₀(z)\n",
    "\n",
    "# Funções trigonométricas\n",
    "seno = cmath.sin(z)\n",
    "cosseno = cmath.cos(z)\n",
    "tangente = cmath.tan(z)\n",
    "\n",
    "# Raiz quadrada\n",
    "raiz = cmath.sqrt(z)\n",
    "\n",
    "print(f\"Módulo: {modulo}\")\n",
    "print(f\"Fase (radianos): {fase}\")\n",
    "print(f\"Fase (graus): {math.degrees(fase)}\")\n",
    "print(f\"Raiz quadrada: {raiz}\")"
   ]
  },
  {
   "cell_type": "markdown",
   "id": "g3h4i5j6",
   "metadata": {},
   "source": [
    "4.5 Formatação"
   ]
  },
  {
   "cell_type": "code",
   "execution_count": null,
   "id": "k7l8m9n0",
   "metadata": {},
   "outputs": [],
   "source": [
    "numero = 3.14159 + 2.71828j\n",
    "\n",
    "# Formatação básica\n",
    "print(f\"Padrão: {numero}\")                     # (3.14159+2.71828j)\n",
    "print(f\"2 casas: {numero:.2f}\")                # (3.14+2.72j)\n",
    "print(f\"Científica: {numero:.2e}\")             # (3.14e+00+2.72e+00j)\n",
    "\n",
    "# Formatação personalizada\n",
    "real = numero.real\n",
    "imag = numero.imag\n",
    "sinal = '+' if imag >= 0 else '-'\n",
    "print(f\"Personalizada: {real:.2f} {sinal} {abs(imag):.2f}i\")\n",
    "\n",
    "# Casos especiais\n",
    "apenas_real = 5 + 0j\n",
    "apenas_imag = 0 + 3j\n",
    "print(f\"Apenas real: {apenas_real}\")\n",
    "print(f\"Apenas imaginário: {apenas_imag}\")"
   ]
  },
  {
   "cell_type": "markdown",
   "id": "o1p2q3r4",
   "metadata": {},
   "source": [
    "4.6 Verificações Úteis"
   ]
  },
  {
   "cell_type": "code",
   "execution_count": null,
   "id": "s5t6u7v8",
   "metadata": {},
   "outputs": [],
   "source": [
    "valor = 3 + 4j\n",
    "\n",
    "# Verificações de tipo\n",
    "isinstance(valor, complex)      # True\n",
    "type(valor) == complex         # True\n",
    "\n",
    "# Verificações matemáticas\n",
    "valor == 0                     # False (é zero?)\n",
    "valor.real == 0                # False (parte real é zero?)\n",
    "valor.imag == 0                # False (parte imaginária é zero?)\n",
    "\n",
    "# Verificar se é real puro\n",
    "def eh_real_puro(z):\n",
    "    return z.imag == 0\n",
    "\n",
    "# Verificar se é imaginário puro\n",
    "def eh_imaginario_puro(z):\n",
    "    return z.real == 0\n",
    "\n",
    "print(f\"É real puro: {eh_real_puro(valor)}\")\n",
    "print(f\"É imaginário puro: {eh_imaginario_puro(valor)}\")\n",
    "print(f\"É real puro (5+0j): {eh_real_puro(5+0j)}\")\n",
    "print(f\"É imaginário puro (0+3j): {eh_imaginario_puro(0+3j)}\")"
   ]
  },
  {
   "cell_type": "markdown",
   "id": "w9x0y1z2",
   "metadata": {},
   "source": [
    "4.7 Aplicações Práticas"
   ]
  },
  {
   "cell_type": "code",
   "execution_count": null,
   "id": "a3b4c5d6",
   "metadata": {},
   "outputs": [],
   "source": [
    "import cmath\n",
    "import math\n",
    "\n",
    "# Resolução de equação quadrática com raízes complexas\n",
    "def resolver_quadratica(a, b, c):\n",
    "    discriminante = b**2 - 4*a*c\n",
    "    if discriminante >= 0:\n",
    "        # Raízes reais\n",
    "        x1 = (-b + math.sqrt(discriminante)) / (2*a)\n",
    "        x2 = (-b - math.sqrt(discriminante)) / (2*a)\n",
    "    else:\n",
    "        # Raízes complexas\n",
    "        x1 = (-b + cmath.sqrt(discriminante)) / (2*a)\n",
    "        x2 = (-b - cmath.sqrt(discriminante)) / (2*a)\n",
    "    return x1, x2\n",
    "\n",
    "# Exemplo: x² + 2x + 5 = 0\n",
    "raiz1, raiz2 = resolver_quadratica(1, 2, 5)\n",
    "print(f\"Raízes: {raiz1}, {raiz2}\")\n",
    "\n",
    "# Representação de ondas (Euler)\n",
    "# e^(iθ) = cos(θ) + i*sin(θ)\n",
    "theta = math.pi / 4  # 45 graus\n",
    "euler = cmath.exp(1j * theta)\n",
    "manual = complex(math.cos(theta), math.sin(theta))\n",
    "\n",
    "print(f\"Fórmula de Euler: {euler:.4f}\")\n",
    "print(f\"Cálculo manual: {manual:.4f}\")\n",
    "\n",
    "# Impedância elétrica (Z = R + jX)\n",
    "resistencia = 100    # Ohms\n",
    "reatancia = 50       # Ohms\n",
    "impedancia = complex(resistencia, reatancia)\n",
    "print(f\"Impedância: {impedancia} Ω\")\n",
    "print(f\"Módulo da impedância: {abs(impedancia):.2f} Ω\")"
   ]
  },
  {
   "cell_type": "markdown",
   "id": "e7f8g9h0",
   "metadata": {},
   "source": [
    "4.8 Constantes e Valores Especiais"
   ]
  },
  {
   "cell_type": "code",
   "execution_count": null,
   "id": "i1j2k3l4",
   "metadata": {},
   "outputs": [],
   "source": [
    "import cmath\n",
    "\n",
    "# Unidade imaginária\n",
    "i = 1j\n",
    "print(f\"Unidade imaginária: {i}\")\n",
    "print(f\"i² = {i**2}\")  # -1\n",
    "\n",
    "# Constantes importantes\n",
    "euler_complexo = cmath.exp(1j * cmath.pi)  # e^(iπ) = -1\n",
    "print(f\"e^(iπ): {euler_complexo:.10f}\")    # Aproximadamente -1\n",
    "\n",
    "# Raízes da unidade\n",
    "# Raízes cúbicas de 1\n",
    "raiz1 = 1\n",
    "raiz2 = cmath.exp(2j * cmath.pi / 3)\n",
    "raiz3 = cmath.exp(4j * cmath.pi / 3)\n",
    "\n",
    "print(f\"Raízes cúbicas de 1:\")\n",
    "print(f\"  {raiz1}\")\n",
    "print(f\"  {raiz2:.4f}\")\n",
    "print(f\"  {raiz3:.4f}\")\n",
    "\n",
    "# Verificação: cada raiz elevada ao cubo deve dar 1\n",
    "print(f\"Verificação:\")\n",
    "print(f\"  {raiz1**3}\")\n",
    "print(f\"  {raiz2**3:.10f}\")\n",
    "print(f\"  {raiz3**3:.10f}\")"
   ]
  }
 ],
 "metadata": {
  "language_info": {
   "name": "python"
  }
 },
 "nbformat": 4,
 "nbformat_minor": 5
}