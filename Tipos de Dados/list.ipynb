{
 "cells": [
  {
   "cell_type": "markdown",
   "id": "9ed8d0cc",
   "metadata": {},
   "source": [
    "Tipos List em Python"
   ]
  },
  {
   "cell_type": "markdown",
   "id": "a1b2c3d4",
   "metadata": {},
   "source": [
    "5.1 Criação de Listas"
   ]
  },
  {
   "cell_type": "code",
   "execution_count": null,
   "id": "e5f6g7h8",
   "metadata": {},
   "outputs": [],
   "source": [
    "# Diferentes formas de criar listas\n",
    "lista_vazia = []                        # Lista vazia\n",
    "lista_numeros = [1, 2, 3, 4, 5]         # Lista de números\n",
    "lista_strings = ['a', 'b', 'c']         # Lista de strings\n",
    "lista_mista = [1, 'texto', 3.14, True]  # Lista mista\n",
    "\n",
    "# Usando a função list()\n",
    "de_string = list('Python')              # ['P', 'y', 't', 'h', 'o', 'n']\n",
    "de_range = list(range(5))               # [0, 1, 2, 3, 4]\n",
    "de_tupla = list((1, 2, 3))              # [1, 2, 3]\n",
    "\n",
    "# List comprehension\n",
    "quadrados = [x**2 for x in range(5)]    # [0, 1, 4, 9, 16]\n",
    "pares = [x for x in range(10) if x % 2 == 0]  # [0, 2, 4, 6, 8]\n",
    "\n",
    "# Listas aninhadas\n",
    "matriz = [[1, 2, 3], [4, 5, 6], [7, 8, 9]]\n",
    "\n",
    "print(f\"Lista de números: {lista_numeros}\")\n",
    "print(f\"De string: {de_string}\")\n",
    "print(f\"Quadrados: {quadrados}\")\n",
    "print(f\"Matriz: {matriz}\")"
   ]
  },
  {
   "cell_type": "markdown",
   "id": "i9j0k1l2",
   "metadata": {},
   "source": [
    "5.2 Indexação e Fatiamento"
   ]
  },
  {
   "cell_type": "code",
   "execution_count": null,
   "id": "m3n4o5p6",
   "metadata": {},
   "outputs": [],
   "source": [
    "frutas = ['maçã', 'banana', 'laranja', 'uva', 'manga']\n",
    "\n",
    "# Indexação\n",
    "primeira = frutas[0]        # 'maçã'\n",
    "ultima = frutas[-1]         # 'manga'\n",
    "segunda = frutas[1]         # 'banana'\n",
    "\n",
    "# Fatiamento [início:fim:passo]\n",
    "primeiras_tres = frutas[:3]     # ['maçã', 'banana', 'laranja']\n",
    "ultimas_duas = frutas[-2:]      # ['uva', 'manga']\n",
    "meio = frutas[1:4]              # ['banana', 'laranja', 'uva']\n",
    "reverso = frutas[::-1]          # ['manga', 'uva', 'laranja', 'banana', 'maçã']\n",
    "alternadas = frutas[::2]        # ['maçã', 'laranja', 'manga']\n",
    "\n",
    "# Modificação por índice\n",
    "frutas[0] = 'pêra'              # Substitui 'maçã' por 'pêra'\n",
    "frutas[1:3] = ['kiwi', 'abacaxi']  # Substitui múltiplos elementos\n",
    "\n",
    "print(f\"Primeira: {primeira}\")\n",
    "print(f\"Primeiras três: {primeiras_tres}\")\n",
    "print(f\"Reverso: {reverso}\")\n",
    "print(f\"Lista modificada: {frutas}\")"
   ]
  },
  {
   "cell_type": "markdown",
   "id": "q7r8s9t0",
   "metadata": {},
   "source": [
    "5.3 Métodos de Adição"
   ]
  },
  {
   "cell_type": "code",
   "execution_count": null,
   "id": "u1v2w3x4",
   "metadata": {},
   "outputs": [],
   "source": [
    "numeros = [1, 2, 3]\n",
    "\n",
    "# append() - adiciona um elemento no final\n",
    "numeros.append(4)\n",
    "print(f\"Após append(4): {numeros}\")\n",
    "\n",
    "# insert() - insere elemento em posição específica\n",
    "numeros.insert(0, 0)  # Insere 0 na posição 0\n",
    "print(f\"Após insert(0, 0): {numeros}\")\n",
    "\n",
    "# extend() - adiciona múltiplos elementos\n",
    "numeros.extend([5, 6, 7])\n",
    "print(f\"Após extend([5, 6, 7]): {numeros}\")\n",
    "\n",
    "# Operador + (concatenação)\n",
    "mais_numeros = numeros + [8, 9, 10]\n",
    "print(f\"Concatenação: {mais_numeros}\")\n",
    "\n",
    "# Operador * (repetição)\n",
    "repetida = [1, 2] * 3\n",
    "print(f\"Repetição: {repetida}\")"
   ]
  },
  {
   "cell_type": "markdown",
   "id": "y5z6a7b8",
   "metadata": {},
   "source": [
    "5.4 Métodos de Remoção"
   ]
  },
  {
   "cell_type": "code",
   "execution_count": null,
   "id": "c9d0e1f2",
   "metadata": {},
   "outputs": [],
   "source": [
    "cores = ['azul', 'verde', 'vermelho', 'amarelo', 'verde']\n",
    "\n",
    "# remove() - remove primeira ocorrência do valor\n",
    "cores.remove('verde')\n",
    "print(f\"Após remove('verde'): {cores}\")\n",
    "\n",
    "# pop() - remove e retorna elemento por índice\n",
    "ultimo = cores.pop()        # Remove último\n",
    "primeiro = cores.pop(0)     # Remove primeiro\n",
    "print(f\"Removido último: {ultimo}\")\n",
    "print(f\"Removido primeiro: {primeiro}\")\n",
    "print(f\"Lista após pop: {cores}\")\n",
    "\n",
    "# del - remove por índice ou fatia\n",
    "numeros = [1, 2, 3, 4, 5]\n",
    "del numeros[0]              # Remove primeiro\n",
    "del numeros[1:3]            # Remove fatia\n",
    "print(f\"Após del: {numeros}\")\n",
    "\n",
    "# clear() - remove todos os elementos\n",
    "temp = [1, 2, 3]\n",
    "temp.clear()\n",
    "print(f\"Após clear(): {temp}\")"
   ]
  },
  {
   "cell_type": "markdown",
   "id": "g3h4i5j6",
   "metadata": {},
   "source": [
    "5.5 Métodos de Busca e Contagem"
   ]
  },
  {
   "cell_type": "code",
   "execution_count": null,
   "id": "k7l8m9n0",
   "metadata": {},
   "outputs": [],
   "source": [
    "animais = ['gato', 'cão', 'pássaro', 'gato', 'peixe']\n",
    "\n",
    "# index() - encontra índice da primeira ocorrência\n",
    "indice_gato = animais.index('gato')\n",
    "print(f\"Índice do primeiro 'gato': {indice_gato}\")\n",
    "\n",
    "# count() - conta ocorrências\n",
    "qtd_gatos = animais.count('gato')\n",
    "print(f\"Quantidade de 'gato': {qtd_gatos}\")\n",
    "\n",
    "# Operador in - verifica se elemento existe\n",
    "tem_cao = 'cão' in animais\n",
    "tem_cobra = 'cobra' in animais\n",
    "print(f\"Tem cão: {tem_cao}\")\n",
    "print(f\"Tem cobra: {tem_cobra}\")\n",
    "\n",
    "# Busca com condições\n",
    "numeros = [1, 5, 3, 8, 2, 9, 4]\n",
    "maiores_que_5 = [x for x in numeros if x > 5]\n",
    "print(f\"Maiores que 5: {maiores_que_5}\")\n",
    "\n",
    "# Encontrar índices com condições\n",
    "indices_pares = [i for i, x in enumerate(numeros) if x % 2 == 0]\n",
    "print(f\"Índices dos pares: {indices_pares}\")"
   ]
  },
  {
   "cell_type": "markdown",
   "id": "o1p2q3r4",
   "metadata": {},
   "source": [
    "5.6 Métodos de Ordenação"
   ]
  },
  {
   "cell_type": "code",
   "execution_count": null,
   "id": "s5t6u7v8",
   "metadata": {},
   "outputs": [],
   "source": [
    "numeros = [3, 1, 4, 1, 5, 9, 2, 6]\n",
    "palavras = ['zebra', 'abelha', 'gato', 'elefante']\n",
    "\n",
    "# sort() - ordena a lista original\n",
    "numeros_copia = numeros.copy()\n",
    "numeros_copia.sort()\n",
    "print(f\"Ordenado crescente: {numeros_copia}\")\n",
    "\n",
    "numeros_copia.sort(reverse=True)\n",
    "print(f\"Ordenado decrescente: {numeros_copia}\")\n",
    "\n",
    "# sorted() - retorna nova lista ordenada\n",
    "numeros_ordenados = sorted(numeros)\n",
    "print(f\"Original: {numeros}\")\n",
    "print(f\"Nova ordenada: {numeros_ordenados}\")\n",
    "\n",
    "# Ordenação por critério personalizado\n",
    "palavras_por_tamanho = sorted(palavras, key=len)\n",
    "print(f\"Por tamanho: {palavras_por_tamanho}\")\n",
    "\n",
    "# reverse() - inverte a ordem\n",
    "lista_teste = [1, 2, 3, 4, 5]\n",
    "lista_teste.reverse()\n",
    "print(f\"Invertida: {lista_teste}\")\n",
    "\n",
    "# Ordenação de listas aninhadas\n",
    "pessoas = [('Ana', 25), ('Bruno', 30), ('Carlos', 20)]\n",
    "por_idade = sorted(pessoas, key=lambda x: x[1])\n",
    "print(f\"Por idade: {por_idade}\")"
   ]
  },
  {
   "cell_type": "markdown",
   "id": "w9x0y1z2",
   "metadata": {},
   "source": [
    "5.7 Operações Úteis"
   ]
  },
  {
   "cell_type": "code",
   "execution_count": null,
   "id": "a3b4c5d6",
   "metadata": {},
   "outputs": [],
   "source": [
    "numeros = [1, 2, 3, 4, 5]\n",
    "\n",
    "# Funções built-in\n",
    "tamanho = len(numeros)          # 5\n",
    "maximo = max(numeros)           # 5\n",
    "minimo = min(numeros)           # 1\n",
    "soma = sum(numeros)             # 15\n",
    "\n",
    "# Cópia de listas\n",
    "copia_rasa = numeros.copy()     # ou numeros[:]\n",
    "import copy\n",
    "copia_profunda = copy.deepcopy(numeros)\n",
    "\n",
    "# Conversões\n",
    "para_tupla = tuple(numeros)     # (1, 2, 3, 4, 5)\n",
    "para_set = set(numeros)         # {1, 2, 3, 4, 5}\n",
    "\n",
    "# Enumerate - índice e valor\n",
    "for i, valor in enumerate(numeros):\n",
    "    print(f\"Índice {i}: {valor}\")\n",
    "\n",
    "# Zip - combinar listas\n",
    "nomes = ['Ana', 'Bruno', 'Carlos']\n",
    "idades = [25, 30, 20]\n",
    "combinado = list(zip(nomes, idades))\n",
    "print(f\"Combinado: {combinado}\")\n",
    "\n",
    "print(f\"Tamanho: {tamanho}, Máximo: {maximo}, Soma: {soma}\")"
   ]
  },
  {
   "cell_type": "markdown",
   "id": "e7f8g9h0",
   "metadata": {},
   "source": [
    "5.8 List Comprehensions Avançadas"
   ]
  },
  {
   "cell_type": "code",
   "execution_count": null,
   "id": "i1j2k3l4",
   "metadata": {},
   "outputs": [],
   "source": [
    "# List comprehension básica\n",
    "quadrados = [x**2 for x in range(10)]\n",
    "print(f\"Quadrados: {quadrados}\")\n",
    "\n",
    "# Com condição\n",
    "pares_quadrados = [x**2 for x in range(10) if x % 2 == 0]\n",
    "print(f\"Quadrados dos pares: {pares_quadrados}\")\n",
    "\n",
    "# Múltiplas condições\n",
    "especiais = [x for x in range(20) if x % 2 == 0 if x % 3 == 0]\n",
    "print(f\"Divisíveis por 2 e 3: {especiais}\")\n",
    "\n",
    "# Aninhadas (matriz)\n",
    "matriz = [[i*j for j in range(3)] for i in range(3)]\n",
    "print(f\"Matriz: {matriz}\")\n",
    "\n",
    "# Achatar lista aninhada\n",
    "aninhada = [[1, 2], [3, 4], [5, 6]]\n",
    "achatada = [item for sublista in aninhada for item in sublista]\n",
    "print(f\"Achatada: {achatada}\")\n",
    "\n",
    "# Com strings\n",
    "palavras = ['python', 'java', 'javascript']\n",
    "maiusculas = [palavra.upper() for palavra in palavras]\n",
    "com_p = [palavra for palavra in palavras if palavra.startswith('p')]\n",
    "print(f\"Maiúsculas: {maiusculas}\")\n",
    "print(f\"Começam com 'p': {com_p}\")\n",
    "\n",
    "# Expressão condicional (ternário)\n",
    "numeros = [-2, -1, 0, 1, 2]\n",
    "absolutos = [x if x >= 0 else -x for x in numeros]\n",
    "print(f\"Valores absolutos: {absolutos}\")"
   ]
  },
  {
   "cell_type": "markdown",
   "id": "m5n6o7p8",
   "metadata": {},
   "source": [
    "5.9 Verificações e Validações"
   ]
  },
  {
   "cell_type": "code",
   "execution_count": null,
   "id": "q9r0s1t2",
   "metadata": {},
   "outputs": [],
   "source": [
    "lista = [1, 2, 3, 4, 5]\n",
    "\n",
    "# Verificações de tipo\n",
    "isinstance(lista, list)         # True\n",
    "type(lista) == list            # True\n",
    "\n",
    "# Verificações de conteúdo\n",
    "vazia = len(lista) == 0        # False\n",
    "tem_elementos = bool(lista)    # True (lista vazia é False)\n",
    "\n",
    "# Verificar se todos/algum elemento atende condição\n",
    "numeros = [2, 4, 6, 8]\n",
    "todos_pares = all(x % 2 == 0 for x in numeros)     # True\n",
    "algum_par = any(x % 2 == 0 for x in [1, 3, 4, 5]) # True\n",
    "\n",
    "# Verificar tipos dos elementos\n",
    "mista = [1, 'texto', 3.14]\n",
    "todos_int = all(isinstance(x, int) for x in numeros)  # True\n",
    "todos_int_mista = all(isinstance(x, int) for x in mista)  # False\n",
    "\n",
    "# Verificar se está ordenada\n",
    "def esta_ordenada(lst):\n",
    "    return lst == sorted(lst)\n",
    "\n",
    "ordenada = [1, 2, 3, 4, 5]\n",
    "desordenada = [3, 1, 4, 2, 5]\n",
    "\n",
    "print(f\"Lista vazia: {vazia}\")\n",
    "print(f\"Todos pares: {todos_pares}\")\n",
    "print(f\"Algum par: {algum_par}\")\n",
    "print(f\"Ordenada está ordenada: {esta_ordenada(ordenada)}\")\n",
    "print(f\"Desordenada está ordenada: {esta_ordenada(desordenada)}\")"
   ]
  },
  {
   "cell_type": "markdown",
   "id": "u3v4w5x6",
   "metadata": {},
   "source": [
    "5.10 Dicas e Truques"
   ]
  },
  {
   "cell_type": "code",
   "execution_count": null,
   "id": "y7z8a9b0",
   "metadata": {},
   "outputs": [],
   "source": [
    "# Trocar elementos de posição\n",
    "lista = [1, 2, 3, 4, 5]\n",
    "lista[0], lista[4] = lista[4], lista[0]  # Troca primeiro com último\n",
    "print(f\"Após troca: {lista}\")\n",
    "\n",
    "# Remover duplicatas mantendo ordem\n",
    "com_duplicatas = [1, 2, 2, 3, 3, 3, 4]\n",
    "sem_duplicatas = []\n",
    "for item in com_duplicatas:\n",
    "    if item not in sem_duplicatas:\n",
    "        sem_duplicatas.append(item)\n",
    "print(f\"Sem duplicatas: {sem_duplicatas}\")\n",
    "\n",
    "# Ou usando dict (Python 3.7+)\n",
    "sem_dup_dict = list(dict.fromkeys(com_duplicatas))\n",
    "print(f\"Sem duplicatas (dict): {sem_dup_dict}\")\n",
    "\n",
    "# Dividir lista em chunks\n",
    "def dividir_lista(lst, tamanho):\n",
    "    return [lst[i:i+tamanho] for i in range(0, len(lst), tamanho)]\n",
    "\n",
    "numeros = list(range(10))\n",
    "chunks = dividir_lista(numeros, 3)\n",
    "print(f\"Dividida em chunks de 3: {chunks}\")\n",
    "\n",
    "# Encontrar elemento mais frequente\n",
    "from collections import Counter\n",
    "elementos = [1, 2, 2, 3, 3, 3, 4]\n",
    "mais_comum = Counter(elementos).most_common(1)[0]\n",
    "print(f\"Mais frequente: {mais_comum}\")\n",
    "\n",
    "# Rotacionar lista\n",
    "def rotacionar(lst, n):\n",
    "    return lst[n:] + lst[:n]\n",
    "\n",
    "original = [1, 2, 3, 4, 5]\n",
    "rotacionada = rotacionar(original, 2)\n",
    "print(f\"Rotacionada 2 posições: {rotacionada}\")"
   ]
  }
 ],
 "metadata": {
  "language_info": {
   "name": "python"
  }
 },
 "nbformat": 4,
 "nbformat_minor": 5
}