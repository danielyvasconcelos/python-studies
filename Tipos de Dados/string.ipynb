{
 "cells": [
  {
   "cell_type": "markdown",
   "id": "d3648315",
   "metadata": {},
   "source": [
    "Tipo String - texto"
   ]
  },
  {
   "cell_type": "markdown",
   "id": "2a60a70b",
   "metadata": {},
   "source": [
    "1.1 - Criação de Strings"
   ]
  },
  {
   "cell_type": "code",
   "execution_count": null,
   "id": "efb8133c",
   "metadata": {},
   "outputs": [],
   "source": [
    "# Existe Diferentes formas de criar string \n",
    "# Aspas simples\n",
    "nome = 'Daniely' \n",
    "# Aspas duplas\n",
    "sobrenome = \"Vasconcelos\"\n",
    "# Três aspas simples ou duplas para strings multilinhas\n",
    "apelido = '''Olá, tudo bem?\n",
    "Como você está?\n",
    "''' \n",
    "print(nome)\n",
    "print(sobrenome)\n",
    "print(apelido)\n",
    "\n",
    "# String vazia e espaços\n",
    "vazia = \"\"\n",
    "espacos = \"   \"\n",
    "quebra_linha = \"\\n\"\n",
    "tab = \"\\t\"\n",
    "\n",
    "print(f\"String vazia: '{vazia}'\")\n",
    "print(f\"String com espaços: '{espacos}'\")\n",
    "print(f\"String com quebra de linha:{quebra_linha}Aqui está a nova linha.\")\n",
    "print(f\"String com tabulação:{tab}Aqui está o texto após o tab.\")\n",
    "\n",
    "# Escape characters\n",
    "aspas_dentro = \"Ele disse: \\\"Python é fantástico!\\\"\"\n",
    "barra_invertida = \"Caminho: C:\\\\Python\\\\Scripts\"\n",
    "\n",
    "print(aspas_dentro)\n",
    "print(barra_invertida)\n"
   ]
  },
  {
   "cell_type": "markdown",
   "id": "d8cfed21",
   "metadata": {},
   "source": [
    "1.2. Operações Básicas"
   ]
  },
  {
   "cell_type": "code",
   "execution_count": 9,
   "id": "55202264",
   "metadata": {},
   "outputs": [
    {
     "name": "stdout",
     "output_type": "stream",
     "text": [
      "Python Programming!\n",
      "========== PYTHON STRINGS ==========\n",
      "True\n",
      "True\n",
      "True\n",
      "True\n",
      "False\n"
     ]
    }
   ],
   "source": [
    "# Concatenação avançada\n",
    "primeiro = \"Python\"\n",
    "segundo = \"Programming\"\n",
    "resultado = primeiro + \" \" + segundo + \"!\"\n",
    "\n",
    "print(resultado)\n",
    "\n",
    "# Repetição com variáveis\n",
    "separador = \"=\" * 10\n",
    "titulo = \" PYTHON STRINGS \"\n",
    "cabecalho = separador + titulo + separador\n",
    "\n",
    "print(cabecalho)\n",
    "\n",
    "# Operadores de comparação\n",
    "\"python\" == \"Python\"  # False (case sensitive)\n",
    "ordem = \"abc\" < \"abd\"         # True (ordem lexicográfica)\n",
    "tamanho_palavra= \"Python\" > \"Java\"     # True\n",
    "\n",
    "print(ordem)\n",
    "print(tamanho_palavra)\n",
    "\n",
    "# Operadores de pertencimento(in - pertence / not in - não pertence)\n",
    "pertence = \"Py\" in \"Python\"      # True\n",
    "nao_pertece = \"java\" not in \"Python\" # True\n",
    "nao_pertece2 = \"Python\" not in \"Python\" # False\n",
    "\n",
    "print(pertence)\n",
    "print(nao_pertece)\n",
    "print(nao_pertece2)\n",
    "\n"
   ]
  },
  {
   "cell_type": "markdown",
   "id": "7bc023a1",
   "metadata": {},
   "source": [
    "1.3 Indexação e fatiamento"
   ]
  },
  {
   "cell_type": "code",
   "execution_count": null,
   "id": "fab01d5d",
   "metadata": {},
   "outputs": [],
   "source": [
    "linguagem = 'Programando em Python'\n",
    "\n",
    "# Indexação negativa \n",
    "ultimo_caractere= linguagem[-1] # 'n'\n",
    "penultimo_caractere = linguagem[-2] # 'o'\n",
    "primeiro = linguagem[-len(linguagem)]  # 'P' (primeiro usando índice negativo)\n",
    "\n",
    "print(ultimo_caractere)\n",
    "print(penultimo_caractere)\n",
    "print(primeiro)\n",
    "\n",
    "# Fatiamento com todos os parâmetros\n",
    "# Sintaxe do Fatiamento: [início:fim:passo]\n",
    "fatiamento_padrao = linguagem[0:6:1]    # 'Python' (padrão)\n",
    "fatiamento_pulando= linguagem[0:6:2]    # 'Pto' (pulando de 2 em 2)\n",
    "fatiamento_meio = linguagem[7::1]     # 'Programming' (do índice 7 até o fim)\n",
    "fatiamento_reverso_pulando = linguagem[::-2]     # 'gimargr nhy' (reverso pulando de 2 em 2)\n",
    "\n",
    "\n",
    "\n",
    "print(fatiamento_padrao)\n",
    "print(fatiamento_pulando)\n",
    "print(fatiamento_meio)\n",
    "print(fatiamento_reverso_pulando)\n",
    "\n",
    "# Fatiamento para extrair partes específicas de uma string\n",
    "email = \"usuario@exemplo.com\"\n",
    "nome_usuario = email[:email.find(\"@\")]      # 'usuario'\n",
    "dominio = email[email.find(\"@\")+1:]         # 'exemplo.com'\n",
    "extensao = email[email.rfind(\".\")+1:]       # 'com'\n",
    "\n",
    "print(nome_usuario)\n",
    "print(dominio)\n",
    "print(extensao)\n"
   ]
  },
  {
   "cell_type": "markdown",
   "id": "ac2e4891",
   "metadata": {},
   "source": [
    "1.4. Métodos Úteis"
   ]
  },
  {
   "cell_type": "code",
   "execution_count": null,
   "id": "7c369e7d",
   "metadata": {},
   "outputs": [
    {
     "name": "stdout",
     "output_type": "stream",
     "text": [
      "PYTHON PROGRAMMING\n",
      "python programming\n",
      "Python Programming\n",
      "Python programming\n",
      "pYtHoN pRoGrAmMiNg\n",
      "python programming\n"
     ]
    }
   ],
   "source": [
    "# Métodos de transformação de maiúsculas e minúsculas\n",
    "texto = \"PyThOn PrOgRaMmInG\"\n",
    "print(texto.upper())       # tudo maisculo\n",
    "print(texto.lower())       # minusculo\n",
    "print(texto.title())       # as primeirs letras maiscula\n",
    "print(texto.capitalize())  # apenas a primeira letra minuscula\n",
    "print(texto.swapcase())    # inverte maiúscula/minúscula\n",
    "print(texto.casefold())    # mais agressivo que lower()"
   ]
  },
  {
   "cell_type": "code",
   "execution_count": null,
   "id": "9f97fe6f",
   "metadata": {},
   "outputs": [],
   "source": [
    "# Remoção de espaços e caracteres específicos\n",
    "texto_sujo = \"   Python Programming   \\n\\t\"\n",
    "texto_sujo.strip()       # 'Python Programming'\n",
    "texto_sujo.lstrip()      # 'Python Programming   \\n\\t'\n",
    "texto_sujo.rstrip()      # '   Python Programming'\n",
    "texto_sujo.strip(\" \\n\\t\") # Remove caracteres específicos\n",
    "#documentar depois \n",
    "\n",
    "# Preenchimento\n",
    "\"Python\".center(20, \"-\")    # '-------Python-------'\n",
    "\"Python\".ljust(10, \"*\")     # 'Python****'\n",
    "\"Python\".rjust(10, \"*\")     # '****Python'\n",
    "\"42\".zfill(5)               # '00042' (preenche com zeros)\n",
    "\n",
    "nome = \"daniely\"\n",
    "print(nome.center(20, \"-\"))"
   ]
  },
  {
   "cell_type": "code",
   "execution_count": null,
   "id": "2ffecced",
   "metadata": {},
   "outputs": [
    {
     "name": "stdout",
     "output_type": "stream",
     "text": [
      "['Python', 'Java', 'JavaScript,C++']\n",
      "['Python', 'Java', 'JavaScript', 'C++']\n",
      "['Linha1', 'Linha2', 'Linha3']\n",
      "Linha1\n",
      "Linha2\n",
      "Linha3\n",
      "Python, Java, JavaScript, C++\n"
     ]
    }
   ],
   "source": [
    "# Divisão e Junção Avançada\n",
    "frase = \"Python,Java,JavaScript,C++\"\n",
    "linguagens = frase.split(\",\")           # encontra todas as vvirgulas, divide por cada virgula e retona uma lista\n",
    "print(frase.split(\",\", 2))                    # divide apenas os dois prmeiros e junta o resto\n",
    "\n",
    "print(linguagens)\n",
    "\n",
    "# Divisão por linhas\n",
    "texto_multilinhas = \"Linha1\\nLinha2\\nLinha3\" # separa a quebra de linha \n",
    "linhas = texto_multilinhas.splitlines() # splitline encontra as quebras de linhas, as remove e retorna uma lista \n",
    "print(linhas)\n",
    "print(texto_multilinhas)\n",
    "\n",
    "# Junção com diferentes separadores\n",
    "# join() é o contrário de split(), ou seja transforma em uma string e coloca o separado por , \n",
    "\", \".join(linguagens)                   \n",
    "\" | \".join(linguagens)                  \n",
    "\"\\n\".join(linguagens)  # pula linha          \n",
    "\n",
    "print(\", \".join(linguagens))\n"
   ]
  },
  {
   "cell_type": "code",
   "execution_count": null,
   "id": "18850ff3",
   "metadata": {},
   "outputs": [
    {
     "data": {
      "text/plain": [
       "'Java é incrível. Python é poderoso.'"
      ]
     },
     "execution_count": 10,
     "metadata": {},
     "output_type": "execute_result"
    }
   ],
   "source": [
    "#Busca e Substituição\n",
    "texto = \"Python é incrível. Python é poderoso.\"\n",
    "texto.find(\"Python\")        # 0 (primeira ocorrência) = find() procura uma substring dentro de uma string e retorna a posição (índice) onde ela foi encontrada.\n",
    "texto.rfind(\"Python\")       # 23 (última ocorrência) = é similar ao find(), mas procura da direita para a esquerda (reverse find) e retorna a última ocorrência.\n",
    "texto.index(\"Python\")       # 0 (como find, mas gera erro se não encontrar)\n",
    "texto.count(\"Python\")       # 2 (quantas vezes aparece)\n",
    "\n",
    "# Substituição - string.replace(antigo, novo, count)\n",
    "texto.replace(\"Python\", \"Java\")           # Substitui todas\n",
    "texto.replace(\"Python\", \"Java\", 1)        # Substitui apenas a primeira\n"
   ]
  },
  {
   "cell_type": "markdown",
   "id": "2de3e821",
   "metadata": {},
   "source": [
    "1.5 Formatação de Strings"
   ]
  },
  {
   "cell_type": "code",
   "execution_count": null,
   "id": "08e1f9a7",
   "metadata": {},
   "outputs": [],
   "source": [
    "# f-strings (Python 3.6+) \n",
    "nome = \"Ana\"\n",
    "idade = 25\n",
    "salario = 5000.50\n",
    "\n",
    "# Formatação básica\n",
    "f\"Nome: {nome}, Idade: {idade}\"\n",
    "\n",
    "# Formatação numérica\n",
    "f\"Salário: R$ {salario:.2f}\"           # R$ 5000.50\n",
    "f\"Salário: R$ {salario:,.2f}\"          # R$ 5,000.50 (com separador de milhares)\n",
    "f\"Porcentagem: {0.85:.1%}\"             # 85.0%\n",
    "\n",
    "# Alinhamento\n",
    "f\"{nome:>10}\"                          # '       Ana' (alinhado à direita)\n",
    "f\"{nome:<10}\"                          # 'Ana       ' (alinhado à esquerda)\n",
    "f\"{nome:^10}\"                          # '   Ana    ' (centralizado)\n",
    "f\"{nome:*^10}\"                         # '***Ana****' (centralizado com preenchimento)\n",
    "\n",
    "# Formatação de data\n",
    "from datetime import datetime\n",
    "agora = datetime.now()\n",
    "f\"Data: {agora:%d/%m/%Y %H:%M:%S}\"\n",
    "\n",
    "# Expressões dentro de f-strings\n",
    "numeros = [1, 2, 3, 4, 5]\n",
    "f\"Soma: {sum(numeros)}\"                # Soma: 15\n",
    "f\"Maior: {max(numeros)}\"               # Maior: 5\n"
   ]
  },
  {
   "cell_type": "code",
   "execution_count": null,
   "id": "91e501df",
   "metadata": {},
   "outputs": [],
   "source": [
    "# format()\n",
    "# Posicionais\n",
    "\"Olá, {0}! Você tem {1} anos e mora em {2}.\".format(nome, idade, \"São Paulo\")\n",
    "\n",
    "# Nomeados\n",
    "\"Olá, {nome}! Você tem {idade} anos.\".format(nome=\"Carlos\", idade=30)\n",
    "\n",
    "# Formatação numérica\n",
    "\"Preço: R$ {:.2f}\".format(1234.5)     # R$ 1234.50\n",
    "\"Binário: {:b}\".format(42)            # 101010\n",
    "\"Hexadecimal: {:x}\".format(255)       # ff\n",
    "\"Científico: {:e}\".format(1234.5)     # 1.234500e+03\n"
   ]
  },
  {
   "cell_type": "markdown",
   "id": "d4914462",
   "metadata": {},
   "source": [
    "1.6. Verificações Úteis "
   ]
  },
  {
   "cell_type": "code",
   "execution_count": null,
   "id": "a55a0abb",
   "metadata": {},
   "outputs": [],
   "source": [
    "# Verificações de tipo de caractere\n",
    "\"Python123\".isalnum()     # True (alfanumérico)\n",
    "\"Python\".isalpha()        # True (apenas letras)\n",
    "\"123\".isdigit()           # True (apenas dígitos)\n",
    "\"123\".isnumeric()         # True (numérico, inclui frações)\n",
    "\"123\".isdecimal()         # True (decimal)\n",
    "\n",
    "# Verificações de caso\n",
    "\"python\".islower()        # True\n",
    "\"PYTHON\".isupper()        # True\n",
    "\"Python Programming\".istitle()  # True\n",
    "\"   \".isspace()           # True (apenas espaços)\n",
    "\n",
    "# Verificações de formato\n",
    "\"print\".isidentifier()    # True (identificador Python válido)\n",
    "\"123abc\".isidentifier()   # False\n",
    "\"\".isascii()              # True (apenas caracteres ASCII)\n",
    "\n",
    "# Verificações de início/fim\n",
    "url = \"https://www.python.org\"\n",
    "url.startswith(\"https\")   # True\n",
    "url.startswith((\"http\", \"https\"))  # True (múltiplas opções)\n",
    "url.endswith(\".org\")      # True\n",
    "url.endswith((\".com\", \".org\", \".net\"))  # True\n"
   ]
  },
  {
   "cell_type": "markdown",
   "id": "90e9f30c",
   "metadata": {},
   "source": [
    "1.7. Métodos Menos Conhecidos mas Úteis"
   ]
  },
  {
   "cell_type": "code",
   "execution_count": null,
   "id": "1995f8be",
   "metadata": {},
   "outputs": [],
   "source": [
    "# Particionamento\n",
    "email = \"usuario@exemplo.com\"\n",
    "antes, sep, depois = email.partition(\"@\")  # ('usuario', '@', 'exemplo.com')\n",
    "depois, sep, antes = email.rpartition(\".\")  # ('usuario@exemplo', '.', 'com')\n",
    "\n",
    "# Tradução de caracteres\n",
    "texto = \"Hello World\"\n",
    "tabela = str.maketrans(\"aeiou\", \"12345\")\n",
    "texto.translate(tabela)   # 'H2ll4 W4rld'\n",
    "\n",
    "# Codificação/Decodificação\n",
    "texto = \"Olá, mundo!\"\n",
    "codificado = texto.encode('utf-8')    # bytes\n",
    "decodificado = codificado.decode('utf-8')  # string novamente\n"
   ]
  },
  {
   "cell_type": "markdown",
   "id": "89da5151",
   "metadata": {},
   "source": [
    "1.8. Padrões Comuns e Casos de Uso"
   ]
  },
  {
   "cell_type": "code",
   "execution_count": null,
   "id": "99cfd53d",
   "metadata": {},
   "outputs": [],
   "source": [
    "# Validação de entrada\n",
    "def validar_email(email):\n",
    "    return \"@\" in email and \".\" in email.split(\"@\")[-1]\n",
    "\n",
    "# Limpeza de dados\n",
    "def limpar_telefone(telefone):\n",
    "    return ''.join(filter(str.isdigit, telefone))\n",
    "\n",
    "# Formatação de nome\n",
    "def formatar_nome(nome_completo):\n",
    "    return ' '.join(palavra.capitalize() for palavra in nome_completo.split())\n",
    "\n",
    "# Geração de slug para URLs\n",
    "def criar_slug(titulo):\n",
    "    return titulo.lower().replace(\" \", \"-\").replace(\"ç\", \"c\")\n",
    "\n",
    "# Mascarar informações sensíveis\n",
    "def mascarar_cpf(cpf):\n",
    "    return f\"{cpf[:3]}.***.**{cpf[-2:]}\"\n"
   ]
  },
  {
   "cell_type": "markdown",
   "id": "dcb893d7",
   "metadata": {},
   "source": [
    "### Dicas de Performance:\n",
    "- Use f-strings para formatação (mais rápido)\n",
    "- Para múltiplas concatenações, use join() em vez de +\n",
    "- Strings são imutáveis - cada operação cria uma nova string\n",
    "\n",
    "- Use in para verificar substring (mais eficiente que find() >= 0)\n"
   ]
  },
  {
   "cell_type": "code",
   "execution_count": null,
   "id": "796f1174",
   "metadata": {},
   "outputs": [],
   "source": [
    "#Armadilhas Comuns:\n",
    "# Evite\n",
    "resultado = \"\"\n",
    "for palavra in palavras:\n",
    "    resultado += palavra + \" \"\n",
    "\n",
    "# Prefira\n",
    "resultado = \" \".join(palavras)\n",
    "\n",
    "# Evite\n",
    "if texto.find(\"substring\") >= 0:\n",
    "\n",
    "# Prefira\n",
    "if \"substring\" in texto:"
   ]
  }
 ],
 "metadata": {
  "kernelspec": {
   "display_name": "Python 3",
   "language": "python",
   "name": "python3"
  },
  "language_info": {
   "codemirror_mode": {
    "name": "ipython",
    "version": 3
   },
   "file_extension": ".py",
   "mimetype": "text/x-python",
   "name": "python",
   "nbconvert_exporter": "python",
   "pygments_lexer": "ipython3",
   "version": "3.13.7"
  }
 },
 "nbformat": 4,
 "nbformat_minor": 5
}
