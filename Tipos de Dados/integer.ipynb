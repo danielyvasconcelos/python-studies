{
 "cells": [
  {
   "cell_type": "markdown",
   "id": "023d42dd",
   "metadata": {},
   "source": [
    "Tipos Inteiros"
   ]
  },
  {
   "cell_type": "markdown",
   "id": "aff34a51",
   "metadata": {},
   "source": [
    "2.1 Criação de Inteiros"
   ]
  },
  {
   "cell_type": "code",
   "execution_count": null,
   "id": "0739a10a",
   "metadata": {},
   "outputs": [],
   "source": [
    "# Diferentes formas de criar inteiros\n",
    "numero = 42                    # Decimal padrão\n",
    "numero_negativo = -15          # Número negativo\n",
    "zero = 0                       # Zero\n",
    "\n",
    "# Diferentes bases numéricas\n",
    "binario = 0b1010              # Binário (10 em decimal)\n",
    "octal = 0o12                  # Octal (10 em decimal)\n",
    "hexadecimal = 0xa             # Hexadecimal (10 em decimal)\n",
    "\n",
    "# Conversão de outros tipos\n",
    "de_string = int(\"123\")        # 123\n",
    "de_float = int(3.14)          # 3 (trunca a parte decimal)\n",
    "de_bool = int(True)           # 1\n",
    "\n",
    "# Inteiros grandes (Python suporta inteiros de tamanho arbitrário)\n",
    "numero_grande = 123456789012345678901234567890\n"
   ]
  },
  {
   "cell_type": "markdown",
   "id": "f51c1c28",
   "metadata": {},
   "source": [
    "2.2 Operações Básicas"
   ]
  },
  {
   "cell_type": "code",
   "execution_count": null,
   "id": "20906c8b",
   "metadata": {},
   "outputs": [],
   "source": [
    "a = 10\n",
    "b = 3\n",
    "\n",
    "# Operações aritméticas\n",
    "soma = a + b                  # 13\n",
    "subtracao = a - b             # 7\n",
    "multiplicacao = a * b         # 30\n",
    "divisao_float = a / b         # 3.333... (retorna float)\n",
    "divisao_inteira = a // b      # 3 (divisão inteira)\n",
    "resto = a % b                 # 1 (módulo/resto)\n",
    "potencia = a ** b             # 1000 (10³)\n",
    "\n",
    "# Operações de comparação\n",
    "igual = a == b                # False\n",
    "diferente = a != b            # True\n",
    "maior = a > b                 # True\n",
    "menor_igual = a <= b          # False\n",
    "\n",
    "# Operações bitwise - trabalha diferatamente com 0s e 1s\n",
    "\"\"\" Para que serve?\n",
    "Performance: Operações muito rápidas\n",
    "Flags: Armazenar múltiplas opções em um número\n",
    "Máscaras: Filtrar bits específicos\n",
    "Criptografia: Manipulação de dados\n",
    "É como trabalhar com o \"DNA\" dos números!\n",
    "\"\"\"\n",
    "e_bit = a & b                 # 2 (AND bitwise)\n",
    "ou_bit = a | b                # 11 (OR / OU bitwise) \n",
    "xor_bit = a ^ b               # 9 (XOR / OU exclusivo bitwise)\n",
    "negacao_bit = ~a              # -11 (NOT / inverte todo bitwise)\n",
    "deslocamento_esq = a << 2     # 40 (desloca 2 bits à esquerda)\n",
    "deslocamento_dir = a >> 1     # 5 (desloca 1 bit à direita)\n"
   ]
  },
  {
   "cell_type": "markdown",
   "id": "546b6875",
   "metadata": {},
   "source": [
    "2.3 Métodos Úteis"
   ]
  },
  {
   "cell_type": "code",
   "execution_count": null,
   "id": "8286ca06",
   "metadata": {},
   "outputs": [],
   "source": [
    "numero = -42\n",
    "\n",
    "# Métodos básicos\n",
    "abs(numero)                   # 42 (valor absoluto)\n",
    "divmod(17, 5)                # (3, 2) - divisão e resto juntos\n",
    "pow(2, 3)                    # 8 (potência)\n",
    "pow(2, 3, 5)                 # 3 (2³ mod 5)\n",
    "\n",
    "# Conversões de base\n",
    "bin(10)                      # '0b1010' (binário)\n",
    "oct(10)                      # '0o12' (octal)\n",
    "hex(10)                      # '0xa' (hexadecimal)\n",
    "\n",
    "# Métodos de verificação\n",
    "numero.bit_length()          # Número de bits necessários\n",
    "numero.bit_count()           # Quantidade de bits 1 (Python 3.10+)\n",
    "\n",
    "# Funções matemáticas úteis\n",
    "max(1, 5, 3)                # numero maximo é 5\n",
    "min(1, 5, 3)                # numero minimo é 1\n",
    "sum([1, 2, 3, 4])           # a soma de todos os numeros na lista é 10\n",
    "round(3.7)                  # arrendonda para 4\n"
   ]
  },
  {
   "cell_type": "markdown",
   "id": "8dc8632a",
   "metadata": {},
   "source": [
    "2.4 Formatação"
   ]
  },
  {
   "cell_type": "code",
   "execution_count": null,
   "id": "b3e63f49",
   "metadata": {},
   "outputs": [],
   "source": [
    "numero = 42\n",
    "pi = 3.14159\n",
    "\n",
    "# Formatação básica com f-strings\n",
    "print(f\"Número: {numero}\")                    # Número: 42\n",
    "print(f\"Com zeros: {numero:05d}\")             # Com zeros: 00042\n",
    "print(f\"Binário: {numero:b}\")                 # Binário: 101010\n",
    "print(f\"Hexadecimal: {numero:x}\")             # Hexadecimal: 2a\n",
    "print(f\"Octal: {numero:o}\")                   # Octal: 52\n",
    "\n",
    "# Formatação com separadores\n",
    "numero_grande = 1234567\n",
    "print(f\"Com vírgulas: {numero_grande:,}\")     # Com vírgulas: 1,234,567\n",
    "print(f\"Com underscores: {numero_grande:_}\")  # Com underscores: 1_234_567\n",
    "\n",
    "# Formatação de porcentagem\n",
    "percentual = 0.85\n",
    "print(f\"Porcentagem: {percentual:.1%}\")       # Porcentagem: 85.0%\n",
    "\n",
    "# Formatação científica\n",
    "print(f\"Científica: {numero_grande:e}\")       # Científica: 1.234567e+06\n"
   ]
  },
  {
   "cell_type": "markdown",
   "id": "a98fe118",
   "metadata": {},
   "source": [
    "2.5 Verificações Úteis"
   ]
  },
  {
   "cell_type": "code",
   "execution_count": null,
   "id": "5d1be6c8",
   "metadata": {},
   "outputs": [],
   "source": [
    "valor = 42\n",
    "\n",
    "# Verificações de tipo\n",
    "# função que verifica se um objeto é do tipo especidico \n",
    "isinstance(valor, int)        # a variavel valor é do tipo int : True\n",
    "type(valor) == int           # o tipo da varivael é int :  True\n",
    "\n",
    "# Verificações matemáticas\n",
    "valor % 2 == 0               # True (é par?)\n",
    "valor % 2 != 0               # False (é ímpar?)\n",
    "valor > 0                    # True (é positivo?)\n",
    "valor < 0                    # False (é negativo?)\n",
    "valor == 0                   # False (é zero?)\n",
    "\n",
    "# Verificações de string numérica\n",
    "\"123\".isdigit()              # função para verificar se é um digito = True\n",
    "\"123\".isnumeric()            # função para verificar se é um numero = True\n",
    "\"-123\".lstrip('-').isdigit() # True (para números negativos) - lstrip() significa \"left strip\" - remove caracteres do lado esquerdo (início) da string.\n",
    "\n",
    "# Verificação de range\n",
    "0 <= valor <= 100            # True (está no intervalo?)\n"
   ]
  },
  {
   "cell_type": "markdown",
   "id": "5f1537da",
   "metadata": {},
   "source": [
    "2.6 Precisão Arbitrária"
   ]
  },
  {
   "cell_type": "code",
   "execution_count": null,
   "id": "a50f9e27",
   "metadata": {},
   "outputs": [],
   "source": [
    "# Python suporta inteiros de qualquer tamanho\n",
    "numero_gigante = 2 ** 1000   # Funciona perfeitamente!\n",
    "print(len(str(numero_gigante)))  # Mostra quantos dígitos tem\n"
   ]
  },
  {
   "cell_type": "markdown",
   "id": "76ecd2d7",
   "metadata": {},
   "source": [
    "2.7 Operações Úteis"
   ]
  },
  {
   "cell_type": "code",
   "execution_count": null,
   "id": "78b88ba8",
   "metadata": {},
   "outputs": [],
   "source": [
    "# Fatorial usando math\n",
    "import math # pacote matematica \n",
    "print(math.factorial(5))            # 120\n",
    "\n",
    "# Máximo divisor comum e mínimo múltiplo comum\n",
    "math.gcd(12, 18)            # Encontra o maior número que divide os dois números sem deixar resto. resultado é 6\n",
    "math.lcm(12, 18)            # Encontra o menor número positivo que é múltiplo de dois ou mais números. resultado = 36 (Python 3.9+)\n",
    "\n",
    "# Geração de números aleatórios\n",
    "import random # pacote gerador de numeros \n",
    "random.randint(1, 100)      # Número aleatório entre 1 e 100 random.randint(inicio, fim)\n",
    "random.choice([1, 2, 3, 4, 5])  # Escolhe um número da lista \n"
   ]
  },
  {
   "cell_type": "markdown",
   "id": "bf046d17",
   "metadata": {},
   "source": [
    "2.8 Constantes Úteis"
   ]
  },
  {
   "cell_type": "code",
   "execution_count": null,
   "id": "869a92be",
   "metadata": {},
   "outputs": [
    {
     "name": "stdout",
     "output_type": "stream",
     "text": [
      "inf\n",
      "-inf\n"
     ]
    }
   ],
   "source": [
    "\"\"\"sys é o módulo system - fornece acesso a informações e configurações do sistema onde o Python está rodando.\"\"\"\n",
    "import sys\n",
    "sys.maxsize                 # Maior inteiro que cabe em um Py_ssize_t\n",
    "print(float('inf'))                # Infinito positivo\n",
    "print(float('-inf'))               # Infinito negativo\n"
   ]
  },
  {
   "cell_type": "markdown",
   "id": "b703cdc6",
   "metadata": {},
   "source": [
    "2.9 Truques com Inteiros"
   ]
  },
  {
   "cell_type": "code",
   "execution_count": null,
   "id": "13efb710",
   "metadata": {},
   "outputs": [],
   "source": [
    "# Troca de variáveis sem variável temporária\n",
    "a, b = 10, 20\n",
    "a, b = b, a                 # a=20, b=10\n",
    "\n",
    "# Soma de dígitos\n",
    "numero = 12345\n",
    "soma_digitos = sum(int(d) for d in str(numero))  # 15\n",
    "\n",
    "# Verificar se é potência de 2\n",
    "def eh_potencia_de_2(n):\n",
    "    return n > 0 and (n & (n - 1)) == 0\n"
   ]
  }
 ],
 "metadata": {
  "kernelspec": {
   "display_name": "Python 3",
   "language": "python",
   "name": "python3"
  },
  "language_info": {
   "codemirror_mode": {
    "name": "ipython",
    "version": 3
   },
   "file_extension": ".py",
   "mimetype": "text/x-python",
   "name": "python",
   "nbconvert_exporter": "python",
   "pygments_lexer": "ipython3",
   "version": "3.13.7"
  }
 },
 "nbformat": 4,
 "nbformat_minor": 5
}
