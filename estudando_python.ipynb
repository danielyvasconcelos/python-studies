{
 "cells": [
  {
   "cell_type": "markdown",
   "id": "2ec268b9",
   "metadata": {},
   "source": [
    "Estudando Python"
   ]
  },
  {
   "cell_type": "code",
   "execution_count": 2,
   "id": "7d8eeb02",
   "metadata": {},
   "outputs": [
    {
     "name": "stdout",
     "output_type": "stream",
     "text": [
      "\n",
      "Conjunto 1\n",
      "Valor: 38\n",
      "Valor: 11\n",
      "Valor: 6\n",
      "Valor: 29\n",
      "Valor: 80\n",
      "\n",
      "Conjunto 2\n",
      "Valor: 65\n",
      "Valor: 43\n",
      "Valor: 51\n",
      "Valor: 25\n",
      "Valor: 47\n",
      "\n",
      "Conjunto 3\n",
      "Valor: 43\n",
      "Valor: 10\n",
      "Valor: 62\n",
      "Valor: 84\n",
      "Valor: 75\n",
      "\n",
      "Conjunto 4\n",
      "Valor: 61\n",
      "Valor: 84\n",
      "Valor: 61\n",
      "Valor: 64\n",
      "Valor: 27\n",
      "\n",
      "Conjunto 5\n",
      "Valor: 83\n",
      "Valor: 25\n",
      "Valor: 18\n",
      "Valor: 52\n",
      "Valor: 65\n"
     ]
    }
   ],
   "source": [
    "import random\n",
    "\n",
    "for A in range(1,6): # imprime do 1 ao 5\n",
    "    print(f'\\nConjunto {A}')\n",
    "    for B in range(5):\n",
    "       numB = random.randint(1,100)\n",
    "       print(f'Valor: {numB}')"
   ]
  },
  {
   "cell_type": "code",
   "execution_count": 1,
   "id": "8f46d78c",
   "metadata": {},
   "outputs": [
    {
     "data": {
      "text/plain": [
       "9"
      ]
     },
     "execution_count": 1,
     "metadata": {},
     "output_type": "execute_result"
    }
   ],
   "source": [
    "5 +4 "
   ]
  }
 ],
 "metadata": {
  "kernelspec": {
   "display_name": "Python 3",
   "language": "python",
   "name": "python3"
  },
  "language_info": {
   "codemirror_mode": {
    "name": "ipython",
    "version": 3
   },
   "file_extension": ".py",
   "mimetype": "text/x-python",
   "name": "python",
   "nbconvert_exporter": "python",
   "pygments_lexer": "ipython3",
   "version": "3.13.7"
  }
 },
 "nbformat": 4,
 "nbformat_minor": 5
}
